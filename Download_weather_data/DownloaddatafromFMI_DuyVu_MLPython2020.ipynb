# Source: "https://github.com/fmidev/opendata-resources/blob/master/examples/python/FMI_WFS2_getobs_multipointcoverage_example.ipynb"
