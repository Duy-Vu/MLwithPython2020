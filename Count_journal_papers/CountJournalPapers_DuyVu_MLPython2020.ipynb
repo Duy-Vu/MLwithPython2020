{
 "cells": [
  {
   "cell_type": "code",
   "execution_count": 5,
   "metadata": {},
   "outputs": [],
   "source": [
    "from bs4 import BeautifulSoup\n",
    "import requests\n",
    "import pandas as pd"
   ]
  },
  {
   "cell_type": "code",
   "execution_count": 7,
   "metadata": {},
   "outputs": [],
   "source": [
    "# Example on finding number of first-authored journal papers of ALexander Jung in the period 2015-2019\n",
    "\n",
    "lower = 2015\n",
    "upper = 2019\n",
    "\n",
    "url = \"https://dblp.uni-trier.de/pers/hd/j/Jung:Alexander\"\n",
    "response = requests.get(url).text\n",
    "soup = BeautifulSoup(response, 'lxml')"
   ]
  },
  {
   "cell_type": "code",
   "execution_count": 9,
   "metadata": {
    "tags": [
     "outputPrepend"
    ]
   },
   "outputs": [
    {
     "output_type": "stream",
     "name": "stdout",
     "text": "[j12] 2019\n[j10] 2019\n[j8] 2016\n[j7] 2015\n[j6] 2015\n5\n"
    }
   ],
   "source": [
    "# Find HTML elements: journal, first_author, year\n",
    "\n",
    "publications = soup.find_all('li', class_='entry article toc')\n",
    "\n",
    "count = 0\n",
    "for pub in publications:\n",
    "    div = pub.find('div', class_='nr')\n",
    "    if '[j' not in div.text:\n",
    "        continue\n",
    "    year = int(pub.find('span', itemprop='datePublished').text)\n",
    "    if not(lower <= year <= upper):\n",
    "        continue\n",
    "    first_author = pub.find('span', itemprop=\"author\")\n",
    "    if first_author.find('span', class_=\"this-person\") == None:\n",
    "        continue\n",
    "    print(div.text, year)\n",
    "    count += 1 \n",
    "print(count)"
   ]
  },
  {
   "cell_type": "code",
   "execution_count": 11,
   "metadata": {},
   "outputs": [],
   "source": [
    "# Get names stored in text file \n",
    "# This is an optional function in case you want to store researchers' name in text file\n",
    "def get_name(file_name):\n",
    "    \"\"\"\n",
    "    Get researchers' names from text file\n",
    "    :param file_name: name of the file storing researchers' names\n",
    "    :return name_list: list of names\n",
    "    \"\"\"\n",
    "\n",
    "    list_names = []\n",
    "    with open(file_name, 'r') as file:\n",
    "        for name in file:\n",
    "            name = name.strip()\n",
    "            list_names.append(name)\n",
    "\n",
    "    return list_names"
   ]
  },
  {
   "cell_type": "code",
   "execution_count": 13,
   "metadata": {},
   "outputs": [],
   "source": [
    "# Get content from website: \"https://dblp.uni-trier.de\"\n",
    "def get_website_content(full_name):\n",
    "    \"\"\"\n",
    "    Get content of the website given name researchers\n",
    "    :param name: full name applicants in the form \"<First name> <Surname/Lastname>\" (e.g \"Alexander Jung\")\n",
    "    :return: BeautifulSoup\n",
    "    \"\"\"\n",
    "\n",
    "    names = full_name.split(' ')\n",
    "    last = names[-1]\n",
    "    first = names[0] \n",
    "    if len(names) > 2:\n",
    "        first = '_'.join(names[:-1])\n",
    "\n",
    "    url = f\"https://dblp.uni-trier.de/pers/hd/{last[0].lower()}/{last}:{first}\"\n",
    "    \n",
    "    # Person cannot be found\n",
    "    if requests.get(url).status_code == 404:\n",
    "        return None\n",
    "\n",
    "    response = requests.get(url).text\n",
    "    return BeautifulSoup(response, 'lxml')"
   ]
  },
  {
   "cell_type": "code",
   "execution_count": 14,
   "metadata": {},
   "outputs": [],
   "source": [
    "def count_journal(soup, lower, upper):\n",
    "    \"\"\"\n",
    "    return number of first_authored journal given the time period\n",
    "    :param soup: get from BeautifulSoup from requests\n",
    "    :param upper: start year\n",
    "    :param lower: end year\n",
    "    return: number of journals\n",
    "    \"\"\"\n",
    "\n",
    "    publications = soup.find_all('li', class_='entry article toc')\n",
    "\n",
    "    count = 0\n",
    "    for pub in publications:\n",
    "        div = pub.find('div', class_='nr')\n",
    "        if '[j' not in div.text:\n",
    "            continue\n",
    "        year = int(pub.find('span', itemprop='datePublished').text)\n",
    "        if not(lower <= year <= upper):\n",
    "            continue\n",
    "        first_author = pub.find('span', itemprop=\"author\")\n",
    "        if first_author.find('span', class_=\"this-person\") == None:\n",
    "            continue\n",
    "        count += 1 \n",
    "\n",
    "    return count"
   ]
  },
  {
   "cell_type": "code",
   "execution_count": 15,
   "metadata": {},
   "outputs": [
    {
     "output_type": "execute_result",
     "data": {
      "text/plain": "  Researcher name  Number of first-authored journal papers\n0     Johan Waara                                        0\n1   Terje Aaberge                                        2\n2    Gabor Hannak                                        1\n3  Alexander Jung                                        9\n4   Minh Thanh Vu                                        1\n5          Duy Vu                                        2",
      "text/html": "<div>\n<style scoped>\n    .dataframe tbody tr th:only-of-type {\n        vertical-align: middle;\n    }\n\n    .dataframe tbody tr th {\n        vertical-align: top;\n    }\n\n    .dataframe thead th {\n        text-align: right;\n    }\n</style>\n<table border=\"1\" class=\"dataframe\">\n  <thead>\n    <tr style=\"text-align: right;\">\n      <th></th>\n      <th>Researcher name</th>\n      <th>Number of first-authored journal papers</th>\n    </tr>\n  </thead>\n  <tbody>\n    <tr>\n      <th>0</th>\n      <td>Johan Waara</td>\n      <td>0</td>\n    </tr>\n    <tr>\n      <th>1</th>\n      <td>Terje Aaberge</td>\n      <td>2</td>\n    </tr>\n    <tr>\n      <th>2</th>\n      <td>Gabor Hannak</td>\n      <td>1</td>\n    </tr>\n    <tr>\n      <th>3</th>\n      <td>Alexander Jung</td>\n      <td>9</td>\n    </tr>\n    <tr>\n      <th>4</th>\n      <td>Minh Thanh Vu</td>\n      <td>1</td>\n    </tr>\n    <tr>\n      <th>5</th>\n      <td>Duy Vu</td>\n      <td>2</td>\n    </tr>\n  </tbody>\n</table>\n</div>"
     },
     "metadata": {},
     "execution_count": 15
    }
   ],
   "source": [
    "# name_list = get_name(\"applicant_list.txt\") # Using this function if names are store in text file\n",
    "name_list = [\"Johan Waara\", \"Terje Aaberge\", \"Gabor Hannak\", \"Alexander Jung\", \"Minh Thanh Vu\", \"Duy Vu\"]\n",
    "\n",
    "start_period = 2001\n",
    "end_period = 2020\n",
    "\n",
    "num_journal = []\n",
    "for name in name_list:\n",
    "    soup = get_website_content(name)\n",
    "    if soup:\n",
    "        num_journal.append(count_journal(soup, start_period, end_period))\n",
    "    else:\n",
    "        num_journal.append(0)\n",
    "\n",
    "df = pd.DataFrame({\"Researcher name\": name_list, \"Number of first-authored journal papers\": num_journal})\n",
    "df"
   ]
  },
  {
   "cell_type": "code",
   "execution_count": 16,
   "metadata": {},
   "outputs": [
    {
     "output_type": "execute_result",
     "data": {
      "text/plain": "<pandas.io.formats.style.Styler at 0x2e2300f9e48>",
      "text/html": "<style  type=\"text/css\" >\n    #T_8de11dde_a4a0_11ea_a7a8_107d1a3c68e9 th {\n          text-align: left;\n    }    #T_8de11dde_a4a0_11ea_a7a8_107d1a3c68e9row0_col0 {\n            text-align:  left;\n        }    #T_8de11dde_a4a0_11ea_a7a8_107d1a3c68e9row0_col1 {\n            text-align:  left;\n        }    #T_8de11dde_a4a0_11ea_a7a8_107d1a3c68e9row1_col0 {\n            text-align:  left;\n        }    #T_8de11dde_a4a0_11ea_a7a8_107d1a3c68e9row1_col1 {\n            text-align:  left;\n        }    #T_8de11dde_a4a0_11ea_a7a8_107d1a3c68e9row2_col0 {\n            text-align:  left;\n        }    #T_8de11dde_a4a0_11ea_a7a8_107d1a3c68e9row2_col1 {\n            text-align:  left;\n        }    #T_8de11dde_a4a0_11ea_a7a8_107d1a3c68e9row3_col0 {\n            text-align:  left;\n        }    #T_8de11dde_a4a0_11ea_a7a8_107d1a3c68e9row3_col1 {\n            text-align:  left;\n        }    #T_8de11dde_a4a0_11ea_a7a8_107d1a3c68e9row4_col0 {\n            text-align:  left;\n        }    #T_8de11dde_a4a0_11ea_a7a8_107d1a3c68e9row4_col1 {\n            text-align:  left;\n        }    #T_8de11dde_a4a0_11ea_a7a8_107d1a3c68e9row5_col0 {\n            text-align:  left;\n        }    #T_8de11dde_a4a0_11ea_a7a8_107d1a3c68e9row5_col1 {\n            text-align:  left;\n        }</style><table id=\"T_8de11dde_a4a0_11ea_a7a8_107d1a3c68e9\" ><thead>    <tr>        <th class=\"blank level0\" ></th>        <th class=\"col_heading level0 col0\" >Researcher name</th>        <th class=\"col_heading level0 col1\" >Number of first-authored journal papers</th>    </tr></thead><tbody>\n                <tr>\n                        <th id=\"T_8de11dde_a4a0_11ea_a7a8_107d1a3c68e9level0_row0\" class=\"row_heading level0 row0\" >0</th>\n                        <td id=\"T_8de11dde_a4a0_11ea_a7a8_107d1a3c68e9row0_col0\" class=\"data row0 col0\" >Johan Waara</td>\n                        <td id=\"T_8de11dde_a4a0_11ea_a7a8_107d1a3c68e9row0_col1\" class=\"data row0 col1\" >0</td>\n            </tr>\n            <tr>\n                        <th id=\"T_8de11dde_a4a0_11ea_a7a8_107d1a3c68e9level0_row1\" class=\"row_heading level0 row1\" >1</th>\n                        <td id=\"T_8de11dde_a4a0_11ea_a7a8_107d1a3c68e9row1_col0\" class=\"data row1 col0\" >Terje Aaberge</td>\n                        <td id=\"T_8de11dde_a4a0_11ea_a7a8_107d1a3c68e9row1_col1\" class=\"data row1 col1\" >2</td>\n            </tr>\n            <tr>\n                        <th id=\"T_8de11dde_a4a0_11ea_a7a8_107d1a3c68e9level0_row2\" class=\"row_heading level0 row2\" >2</th>\n                        <td id=\"T_8de11dde_a4a0_11ea_a7a8_107d1a3c68e9row2_col0\" class=\"data row2 col0\" >Gabor Hannak</td>\n                        <td id=\"T_8de11dde_a4a0_11ea_a7a8_107d1a3c68e9row2_col1\" class=\"data row2 col1\" >1</td>\n            </tr>\n            <tr>\n                        <th id=\"T_8de11dde_a4a0_11ea_a7a8_107d1a3c68e9level0_row3\" class=\"row_heading level0 row3\" >3</th>\n                        <td id=\"T_8de11dde_a4a0_11ea_a7a8_107d1a3c68e9row3_col0\" class=\"data row3 col0\" >Alexander Jung</td>\n                        <td id=\"T_8de11dde_a4a0_11ea_a7a8_107d1a3c68e9row3_col1\" class=\"data row3 col1\" >9</td>\n            </tr>\n            <tr>\n                        <th id=\"T_8de11dde_a4a0_11ea_a7a8_107d1a3c68e9level0_row4\" class=\"row_heading level0 row4\" >4</th>\n                        <td id=\"T_8de11dde_a4a0_11ea_a7a8_107d1a3c68e9row4_col0\" class=\"data row4 col0\" >Minh Thanh Vu</td>\n                        <td id=\"T_8de11dde_a4a0_11ea_a7a8_107d1a3c68e9row4_col1\" class=\"data row4 col1\" >1</td>\n            </tr>\n            <tr>\n                        <th id=\"T_8de11dde_a4a0_11ea_a7a8_107d1a3c68e9level0_row5\" class=\"row_heading level0 row5\" >5</th>\n                        <td id=\"T_8de11dde_a4a0_11ea_a7a8_107d1a3c68e9row5_col0\" class=\"data row5 col0\" >Duy Vu</td>\n                        <td id=\"T_8de11dde_a4a0_11ea_a7a8_107d1a3c68e9row5_col1\" class=\"data row5 col1\" >2</td>\n            </tr>\n    </tbody></table>"
     },
     "metadata": {},
     "execution_count": 16
    }
   ],
   "source": [
    "# ALgin content in dataframe to the left\n",
    "df_left_align = df.style.set_properties(**{'text-align': 'left'})\n",
    "df_left_align.set_table_styles([dict(selector='th', props=[('text-align', 'left')])])\n",
    "df_left_align"
   ]
  }
 ],
 "metadata": {
  "language_info": {
   "codemirror_mode": {
    "name": "ipython",
    "version": 3
   },
   "file_extension": ".py",
   "mimetype": "text/x-python",
   "name": "python",
   "nbconvert_exporter": "python",
   "pygments_lexer": "ipython3",
   "version": "3.7.2-final"
  },
  "orig_nbformat": 2,
  "kernelspec": {
   "name": "python37264bit4db9cbf0c777478ab98fa631f89cb86f",
   "display_name": "Python 3.7.2 64-bit"
  }
 },
 "nbformat": 4,
 "nbformat_minor": 2
}