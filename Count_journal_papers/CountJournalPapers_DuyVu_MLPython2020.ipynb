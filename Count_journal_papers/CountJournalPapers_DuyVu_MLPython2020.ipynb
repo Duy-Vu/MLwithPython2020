{
 "cells": [
  {
   "cell_type": "code",
   "execution_count": 34,
   "metadata": {},
   "outputs": [],
   "source": [
    "# Source: https://github.com/fmidev/opendata-resources/blob/master/examples/python/FMI_WFS2_getobs_multipointcoverage_example.ipynb"
   ]
  },
  {
   "cell_type": "code",
   "execution_count": 35,
   "metadata": {},
   "outputs": [],
   "source": [
    "import requests\n",
    "import datetime as dt\n",
    "import xml.etree.ElementTree as ET\n",
    "import numpy as np\n",
    "import re\n",
    "# import cartopy.crs as ccrs\n",
    "import matplotlib.pyplot as plt\n",
    "from matplotlib import colorbar, colors"
   ]
  },
  {
   "cell_type": "code",
   "execution_count": 36,
   "metadata": {},
   "outputs": [],
   "source": [
    "def get_param_names(url):\n",
    "    \"\"\" Get parameters metadata\"\"\"\n",
    "    req = requests.get(url)\n",
    "    params = {}\n",
    "    \n",
    "    if req.status_code == 200:\n",
    "        xmlstring = req.content\n",
    "        tree = ET.ElementTree(ET.fromstring(xmlstring))                \n",
    "        for p in tree.iter(tag='{http://inspire.ec.europa.eu/schemas/omop/2.9}ObservableProperty'):\n",
    "            params[p.get('{http://www.opengis.net/gml/3.2}id')] = p.find('{http://inspire.ec.europa.eu/schemas/omop/2.9}label').text\n",
    "    return params        \n",
    "    \n",
    "def get_params(tree):\n",
    "    \"\"\" Get parameters from response xml tree \"\"\"\n",
    "    \n",
    "    retParams = []\n",
    "    for el in tree.iter(tag='{http://www.opengis.net/om/2.0}observedProperty'):\n",
    "        url = el.get('{http://www.w3.org/1999/xlink}href')\n",
    "        params = re.findall(r\"(?<=param=).*,.*(?=&)\", url)[0].split(',')\n",
    "\n",
    "        param_names = get_param_names(url)\n",
    "        for p in params:\n",
    "            retParams.append('{} ({})'.format(param_names[p], p))\n",
    "                \n",
    "    return retParams"
   ]
  },
  {
   "cell_type": "code",
   "execution_count": 37,
   "metadata": {},
   "outputs": [],
   "source": [
    "def get_positions(tree):\n",
    "    \"\"\" \n",
    "    Function to get times and coordinates from multipointcoverage answer\n",
    "    \"\"\"\n",
    "    positions = []\n",
    "    for el in tree.iter(tag='{http://www.opengis.net/gmlcov/1.0}positions'):\n",
    "        pos = el.text.split()\n",
    "        i = 0\n",
    "        while len(pos) > 0:\n",
    "            lat = float(pos.pop(0))\n",
    "            lon = float(pos.pop(0))\n",
    "            timestamp = int(pos.pop(0))\n",
    "            positions.append([lat,lon,timestamp])\n",
    "    return np.array(positions)\n"
   ]
  },
  {
   "cell_type": "code",
   "execution_count": 51,
   "metadata": {
    "tags": [
     "outputPrepend"
    ]
   },
   "outputs": [
    {
     "output_type": "error",
     "ename": "AxisError",
     "evalue": "axis 1 is out of bounds for array of dimension 1",
     "traceback": [
      "\u001b[1;31m---------------------------------------------------------------------------\u001b[0m",
      "\u001b[1;31mAxisError\u001b[0m                                 Traceback (most recent call last)",
      "\u001b[1;32m<ipython-input-51-523259e361c8>\u001b[0m in \u001b[0;36m<module>\u001b[1;34m()\u001b[0m\n\u001b[0;32m     39\u001b[0m \u001b[1;33m\u001b[0m\u001b[0m\n\u001b[0;32m     40\u001b[0m     \u001b[1;31m# Assign data values to positions\u001b[0m\u001b[1;33m\u001b[0m\u001b[1;33m\u001b[0m\u001b[0m\n\u001b[1;32m---> 41\u001b[1;33m     \u001b[0mjunk\u001b[0m \u001b[1;33m=\u001b[0m \u001b[0mnp\u001b[0m\u001b[1;33m.\u001b[0m\u001b[0mappend\u001b[0m\u001b[1;33m(\u001b[0m\u001b[0mpositions\u001b[0m\u001b[1;33m,\u001b[0m \u001b[0mnp\u001b[0m\u001b[1;33m.\u001b[0m\u001b[0marray\u001b[0m\u001b[1;33m(\u001b[0m\u001b[0md\u001b[0m\u001b[1;33m)\u001b[0m\u001b[1;33m,\u001b[0m \u001b[0maxis\u001b[0m\u001b[1;33m=\u001b[0m\u001b[1;36m1\u001b[0m\u001b[1;33m)\u001b[0m\u001b[1;33m\u001b[0m\u001b[0m\n\u001b[0m\u001b[0;32m     42\u001b[0m     \u001b[1;32mif\u001b[0m \u001b[0mdata\u001b[0m \u001b[1;32mis\u001b[0m \u001b[1;32mnot\u001b[0m \u001b[1;32mFalse\u001b[0m\u001b[1;33m:\u001b[0m\u001b[1;33m\u001b[0m\u001b[0m\n\u001b[0;32m     43\u001b[0m         \u001b[0mdata\u001b[0m \u001b[1;33m=\u001b[0m \u001b[0mnp\u001b[0m\u001b[1;33m.\u001b[0m\u001b[0mappend\u001b[0m\u001b[1;33m(\u001b[0m\u001b[0mdata\u001b[0m\u001b[1;33m,\u001b[0m \u001b[0mjunk\u001b[0m\u001b[1;33m,\u001b[0m \u001b[0maxis\u001b[0m\u001b[1;33m=\u001b[0m\u001b[1;36m0\u001b[0m\u001b[1;33m)\u001b[0m\u001b[1;33m\u001b[0m\u001b[0m\n",
      "\u001b[1;32m~\\Anaconda3\\envs\\datascience\\lib\\site-packages\\numpy\\lib\\function_base.py\u001b[0m in \u001b[0;36mappend\u001b[1;34m(arr, values, axis)\u001b[0m\n\u001b[0;32m   5164\u001b[0m         \u001b[0mvalues\u001b[0m \u001b[1;33m=\u001b[0m \u001b[0mravel\u001b[0m\u001b[1;33m(\u001b[0m\u001b[0mvalues\u001b[0m\u001b[1;33m)\u001b[0m\u001b[1;33m\u001b[0m\u001b[0m\n\u001b[0;32m   5165\u001b[0m         \u001b[0maxis\u001b[0m \u001b[1;33m=\u001b[0m \u001b[0marr\u001b[0m\u001b[1;33m.\u001b[0m\u001b[0mndim\u001b[0m\u001b[1;33m-\u001b[0m\u001b[1;36m1\u001b[0m\u001b[1;33m\u001b[0m\u001b[0m\n\u001b[1;32m-> 5166\u001b[1;33m     \u001b[1;32mreturn\u001b[0m \u001b[0mconcatenate\u001b[0m\u001b[1;33m(\u001b[0m\u001b[1;33m(\u001b[0m\u001b[0marr\u001b[0m\u001b[1;33m,\u001b[0m \u001b[0mvalues\u001b[0m\u001b[1;33m)\u001b[0m\u001b[1;33m,\u001b[0m \u001b[0maxis\u001b[0m\u001b[1;33m=\u001b[0m\u001b[0maxis\u001b[0m\u001b[1;33m)\u001b[0m\u001b[1;33m\u001b[0m\u001b[0m\n\u001b[0m",
      "\u001b[1;31mAxisError\u001b[0m: axis 1 is out of bounds for array of dimension 1"
     ]
    }
   ],
   "source": [
    "url = 'http://opendata.fmi.fi/wfs'\n",
    "bbox = '19,59,30,75'\n",
    "data = False\n",
    "\n",
    "starttime = dt.datetime.strptime('2010-01-01', \"%Y-%m-%d\")\n",
    "endtime = dt.datetime.strptime('2010-01-03', \"%Y-%m-%d\")\n",
    "daystep = 1\n",
    "\n",
    "start = starttime\n",
    "end = start + dt.timedelta(days=daystep)\n",
    "if end > endtime: end = endtime\n",
    "    \n",
    "while end <= endtime and start < end:\n",
    "    startStr = start.strftime('%Y-%m-%d')\n",
    "    endStr = end.strftime('%Y-%m-%d')\n",
    "    \n",
    "    # Get data\n",
    "    payload = {\n",
    "        'request': 'getFeature',\n",
    "        'storedquery_id': 'fmi::observations::weather::multipointcoverage',\n",
    "        'parameters': 'windspeedms,winddirection,cloudamount',      # cloud amount parameter\n",
    "        'bbox': bbox,\n",
    "        'starttime': startStr,\n",
    "        'endtime': endStr,    \n",
    "    }\n",
    "    r = requests.get(url, params=payload)\n",
    "    \n",
    "    # Construct XML tree\n",
    "    tree = ET.ElementTree(ET.fromstring(r.content))\n",
    "\n",
    "    # Get geospatial and temporal positions of data elements\n",
    "    positions = get_positions(tree)\n",
    "        \n",
    "    # Extract data from XML tree\n",
    "    d = []\n",
    "    for el in tree.iter(tag='{http://www.opengis.net/gml/3.2}doubleOrNilReasonTupleList'):\n",
    "        for pos in el.text.strip().split(\"\\n\"):\n",
    "            d.append(list(map(float, pos.strip().split(' '))))\n",
    "    \n",
    "    # Assign data values to positions\n",
    "    junk = np.append(positions, np.array(d), axis=1)\n",
    "    if data is not False:\n",
    "        data = np.append(data, junk, axis=0)\n",
    "    else:\n",
    "        data = junk\n",
    "    \n",
    "    print('Time interval {} - {} provided {} rows'.format(startStr, endStr, junk.shape[0]))\n",
    "    \n",
    "    start = end\n",
    "    end = start + dt.timedelta(days=daystep)\n",
    "    if end > endtime: end = endtime\n",
    "\n",
    "print('Done fetching data. Final dimensions of the result: {}'.format(data.shape))\n",
    "print(positions.shape)"
   ]
  },
  {
   "cell_type": "code",
   "execution_count": 39,
   "metadata": {},
   "outputs": [],
   "source": [
    "params = get_params(tree)"
   ]
  },
  {
   "cell_type": "code",
   "execution_count": null,
   "metadata": {},
   "outputs": [],
   "source": []
  },
  {
   "cell_type": "code",
   "execution_count": null,
   "metadata": {},
   "outputs": [],
   "source": []
  },
  {
   "cell_type": "code",
   "execution_count": 40,
   "metadata": {},
   "outputs": [
    {
     "output_type": "execute_result",
     "data": {
      "text/plain": "'\\ndates = set()\\nfor timestamp in data[:,2]:\\n    d = dt.datetime.fromtimestamp(timestamp)\\n    if d not in dates:\\n        dates.add(d)\\n        print(d)\\n'"
     },
     "metadata": {},
     "execution_count": 40
    }
   ],
   "source": [
    "\"\"\"\n",
    "fig = plt.figure(figsize=(18, 13))\n",
    "first_timestamp = data[0,2]\n",
    "axes = {}\n",
    "\n",
    "for i in np.arange(0,4):    \n",
    "    axes[i] = plt.subplot(2, 2, i+1, projection=ccrs.PlateCarree())\n",
    "    axes[i].coastlines()\n",
    "\n",
    "    timestamp = first_timestamp + 12*3600*i\n",
    "    \n",
    "    coords = data[(data[:,2] == timestamp)][:,0:2]\n",
    "    coords = np.column_stack((coords[:,1], coords[:,0]))\n",
    "\n",
    "    val = data[(data[:,2] == timestamp)][:,3]\n",
    "\n",
    "    cb = axes[i].scatter(coords[:,0], coords[:,1], c=val, cmap='coolwarm')\n",
    "    plt.colorbar(cb, cmap='coolwarm', orientation='vertical',ticklocation='auto')\n",
    "    \n",
    "    axes[i].set_title('{}'.format(dt.datetime.fromtimestamp(timestamp)))\n",
    "\"\"\"\n",
    "\"\"\"\n",
    "dates = set()\n",
    "for timestamp in data[:,2]:\n",
    "    d = dt.datetime.fromtimestamp(timestamp)\n",
    "    if d not in dates:\n",
    "        dates.add(d)\n",
    "        print(d)\n",
    "\"\"\""
   ]
  },
  {
   "cell_type": "code",
   "execution_count": null,
   "metadata": {},
   "outputs": [],
   "source": []
  }
 ],
 "metadata": {
  "language_info": {
   "codemirror_mode": {
    "name": "ipython",
    "version": 3
   },
   "file_extension": ".py",
   "mimetype": "text/x-python",
   "name": "python",
   "nbconvert_exporter": "python",
   "pygments_lexer": "ipython3",
   "version": "3.5.5-final"
  },
  "orig_nbformat": 2,
  "kernelspec": {
   "name": "python35564bitdatascienceconda75a44b4af5bd4ea49a651263e7ea5434",
   "display_name": "Python 3.5.5 64-bit ('datascience': conda)"
  }
 },
 "nbformat": 4,
 "nbformat_minor": 2
}